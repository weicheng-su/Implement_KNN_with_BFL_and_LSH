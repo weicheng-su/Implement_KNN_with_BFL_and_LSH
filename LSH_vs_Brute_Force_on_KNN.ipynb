{
 "cells": [
  {
   "attachments": {},
   "cell_type": "markdown",
   "metadata": {},
   "source": [
    "## 作業說明：\n",
    "<div>\n",
    "    <br>\n",
    "    <img src=\"HW3_LSH_Document.png\", width=\"650\"/>\n",
    "</div>"
   ]
  },
  {
   "cell_type": "markdown",
   "metadata": {},
   "source": [
    "## Load Datasets"
   ]
  },
  {
   "cell_type": "code",
   "execution_count": null,
   "metadata": {},
   "outputs": [],
   "source": [
    "import pandas as pd\n",
    "data=pd.read_csv('/Users/leosu/Desktop/BD_HW3/instrument_clean.csv')"
   ]
  },
  {
   "cell_type": "code",
   "execution_count": 2,
   "metadata": {},
   "outputs": [],
   "source": [
    "# 因為datasketch只能接受set的資料型態，所以用這個function把原本的資料轉換成set\n",
    "def getSet(i):\n",
    "    string = str(data.iloc[i][\"reviews\"])\n",
    "    string_split = string.split()\n",
    "    my_set = set(string_split)\n",
    "    return my_set"
   ]
  },
  {
   "cell_type": "markdown",
   "metadata": {},
   "source": [
    "## Implement MinHash"
   ]
  },
  {
   "attachments": {},
   "cell_type": "markdown",
   "metadata": {},
   "source": [
    "### 透過 datasketch 的 MinHash package，就可以在下面這個步驟完成到 step2 (MinHash)\n",
    "<div>\n",
    "    <br>\n",
    "    <img src=\"step2.png\", width=\"700\"/>\n",
    "</div>"
   ]
  },
  {
   "cell_type": "code",
   "execution_count": 3,
   "metadata": {},
   "outputs": [],
   "source": [
    "from datasketch import MinHash, MinHashLSH\n",
    "import numpy as np\n",
    "m = list()\n",
    "for i in range(0,100000):\n",
    "    m.append(MinHash(num_perm=128))\n",
    "    for d in getSet(i):\n",
    "        m[i].update(d.encode('utf8'))"
   ]
  },
  {
   "cell_type": "markdown",
   "metadata": {},
   "source": [
    "## Implement KNN by Using Brute-Force Linear Search (denoted BFL)"
   ]
  },
  {
   "cell_type": "code",
   "execution_count": 136,
   "metadata": {},
   "outputs": [],
   "source": [
    "def get_prediction_bf_cv1(k):\n",
    "    default_rate = 5.0\n",
    "    jaccard_list = []\n",
    "    try:\n",
    "        for i in range(20000,100000):\n",
    "            jaccard_list.append(m[k].jaccard(m[i]))\n",
    "        max_m = jaccard_list.index(max(jaccard_list))\n",
    "        return data.iloc[max_m][\"rate\"]\n",
    "    except ValueError:\n",
    "        print(k, \"value_error\")\n",
    "        return default_rate"
   ]
  },
  {
   "cell_type": "code",
   "execution_count": 1,
   "metadata": {
    "scrolled": true
   },
   "outputs": [],
   "source": [
    "%%time\n",
    "import time \n",
    "tStart = time.time() #計時開始\n",
    "y_pred = []\n",
    "BFL_time=[]\n",
    "for i in range(0,20000):\n",
    "    print(\"test\" + str(i))\n",
    "    y_pred.append(get_prediction_bf_cv1(i))\n",
    "    tEnd = time.time()\n",
    "    BFL_time.append(tEnd-tStart)"
   ]
  },
  {
   "cell_type": "code",
   "execution_count": 156,
   "metadata": {},
   "outputs": [],
   "source": [
    "y_pred_df = pd.DataFrame(y_pred, columns=[\"rate\"])"
   ]
  },
  {
   "cell_type": "code",
   "execution_count": 157,
   "metadata": {},
   "outputs": [],
   "source": [
    "y_true = data.iloc[0:20000][\"rate\"]"
   ]
  },
  {
   "cell_type": "code",
   "execution_count": 158,
   "metadata": {},
   "outputs": [],
   "source": [
    "from sklearn.metrics import accuracy_score\n",
    "score_bf = accuracy_score(y_true, y_pred_df, normalize=True)"
   ]
  },
  {
   "cell_type": "code",
   "execution_count": 159,
   "metadata": {
    "scrolled": true
   },
   "outputs": [
    {
     "data": {
      "text/plain": [
       "0.48265"
      ]
     },
     "execution_count": 159,
     "metadata": {},
     "output_type": "execute_result"
    }
   ],
   "source": [
    "score_bf"
   ]
  },
  {
   "cell_type": "markdown",
   "metadata": {},
   "source": [
    "## Implement KNN by Using Locality-Sensitive Hashing Search (denoted LSH)"
   ]
  },
  {
   "attachments": {},
   "cell_type": "markdown",
   "metadata": {},
   "source": [
    "### 透過 datasketch 的 MinHashLSH package，就可以在下面這個步驟完成LSH\n",
    "<div>\n",
    "    <br>\n",
    "    <img src=\"step3.png\", width=\"700\"/>\n",
    "</div>"
   ]
  },
  {
   "cell_type": "code",
   "execution_count": 127,
   "metadata": {},
   "outputs": [],
   "source": [
    "# Create LSH index\n",
    "lsh = MinHashLSH(threshold=0.2, num_perm=128)\n",
    "for i in range(20000,100000):\n",
    "    lsh.insert(i, m[i])"
   ]
  },
  {
   "cell_type": "code",
   "execution_count": 128,
   "metadata": {},
   "outputs": [
    {
     "data": {
      "text/plain": [
       "128"
      ]
     },
     "execution_count": 128,
     "metadata": {},
     "output_type": "execute_result"
    }
   ],
   "source": [
    "# number of bands\n",
    "lsh.h"
   ]
  },
  {
   "cell_type": "code",
   "execution_count": 129,
   "metadata": {},
   "outputs": [],
   "source": [
    "def get_prediction(k):\n",
    "    default_rate = 5.0\n",
    "    result = lsh.query(m[k])\n",
    "    jaccard_list = []\n",
    "    try:\n",
    "        for i in range(len(result)):\n",
    "            jaccard_list.append(m[k].jaccard(m[result[i]]))\n",
    "        max_m = jaccard_list.index(max(jaccard_list))\n",
    "        return data.iloc[max_m][\"rate\"]\n",
    "    except ValueError:\n",
    "        print(k, \"value_error\")\n",
    "        return default_rate\n",
    "    \n",
    "#     print(max_m)\n",
    "#     print(data.iloc[max_m][\"rate\"])"
   ]
  },
  {
   "cell_type": "code",
   "execution_count": 2,
   "metadata": {
    "scrolled": true
   },
   "outputs": [],
   "source": [
    "%%time\n",
    "import time \n",
    "tStart = time.time() #計時開始\n",
    "y_pred_lsh = []\n",
    "LSH_time=[]\n",
    "for i in range(0,20000):\n",
    "    y_pred_lsh.append(get_prediction(i))\n",
    "    tEnd = time.time()\n",
    "    LSH_time.append(tEnd-tStart)"
   ]
  },
  {
   "cell_type": "code",
   "execution_count": 131,
   "metadata": {},
   "outputs": [
    {
     "data": {
      "text/plain": [
       "0.4059"
      ]
     },
     "execution_count": 131,
     "metadata": {},
     "output_type": "execute_result"
    }
   ],
   "source": [
    "y_pred_df_lsh = pd.DataFrame(y_pred_lsh, columns=[\"rate\"])\n",
    "y_true_lsh = data.iloc[0:20000][\"rate\"]\n",
    "from sklearn.metrics import accuracy_score\n",
    "score_lsh = accuracy_score(y_true_lsh, y_pred_df_lsh, normalize=True)\n",
    "score_lsh"
   ]
  },
  {
   "cell_type": "markdown",
   "metadata": {},
   "source": [
    "## Performance Comparison in Effectiveness and Efficiency"
   ]
  },
  {
   "cell_type": "markdown",
   "metadata": {},
   "source": [
    "### Effectiveness"
   ]
  },
  {
   "cell_type": "code",
   "execution_count": 45,
   "metadata": {},
   "outputs": [
    {
     "data": {
      "image/png": "[encoded data removed]",
      "text/plain": [
       "<Figure size 432x288 with 1 Axes>"
      ]
     },
     "metadata": {
      "needs_background": "light"
     },
     "output_type": "display_data"
    }
   ],
   "source": [
    "import matplotlib.pyplot as plt\n",
    "\n",
    "effectiveness = [score_bf,score_lsh]\n",
    "\n",
    "plt.bar(range(2), effectiveness, 0.4,color='g', alpha = 0.8,align='center')\n",
    "\n",
    "plt.ylabel('Accuracy')\n",
    "plt.title('Effectiveness')\n",
    "\n",
    "plt.xticks(range(2),['BFL','LSH'])\n",
    "\n",
    "for x,y in enumerate(effectiveness):\n",
    "    plt.text(x,y,'%s' %y,ha='center')\n",
    "\n",
    "plt.show()"
   ]
  },
  {
   "cell_type": "markdown",
   "metadata": {},
   "source": [
    "### Efficency"
   ]
  },
  {
   "cell_type": "code",
   "execution_count": 160,
   "metadata": {
    "scrolled": false
   },
   "outputs": [
    {
     "data": {
      "image/png": "[encoded data removed]",
      "text/plain": [
       "<Figure size 576x432 with 1 Axes>"
      ]
     },
     "metadata": {
      "needs_background": "light"
     },
     "output_type": "display_data"
    }
   ],
   "source": [
    "import matplotlib.pyplot as plt\n",
    "import numpy as np\n",
    "%matplotlib inline\n",
    "\n",
    "plt.figure(0,figsize=(8,6))\n",
    "\n",
    "x = [x/len(BFL_time)*100 for x in range(len(BFL_time))]\n",
    "\n",
    "line_BFL, = plt.plot(x, BFL_time, label='BFL')\n",
    "line_LSH, = plt.plot(x, LSH_time, label='LSH')\n",
    "plt.xlabel('% of test data')\n",
    "plt.ylabel('Accumulated Run Time')\n",
    "# plt.ylim([0,2])\n",
    "plt.legend(handles=[line_BFL,line_LSH], loc=0)\n",
    "\n",
    "plt.show()\n",
    "plt.close()"
   ]
  },
  {
   "cell_type": "markdown",
   "metadata": {},
   "source": [
    "在Effectiveness的表現上，很明顯的BFL的準確度較高，但BFL所要花的時間卻是LSH的好幾倍之多。\n",
    "\n",
    "因為BFL是用最naive的方式一個一個比較，所以準確度通常來說會比較高，但是它卻要花上非常大量的時間成本，在資料量越來越大的現在，LSH勢必會是比較理想的作法，因為LSH大幅的降低了運算的時間，又可以達到還不錯的準確度。"
   ]
  },
  {
   "cell_type": "markdown",
   "metadata": {},
   "source": [
    "## Change LSH Hyperparameters"
   ]
  },
  {
   "cell_type": "markdown",
   "metadata": {},
   "source": [
    "### Change num_perm (number of permutation)"
   ]
  },
  {
   "cell_type": "code",
   "execution_count": 58,
   "metadata": {},
   "outputs": [],
   "source": [
    "from datasketch import MinHash, MinHashLSH\n",
    "import numpy as np\n",
    "m_256_n = list()\n",
    "for i in range(0,100000):\n",
    "    m_256_n.append(MinHash(num_perm=256))\n",
    "    for d in getSet(i):\n",
    "        m_256_n[i].update(d.encode('utf8'))"
   ]
  },
  {
   "cell_type": "code",
   "execution_count": 59,
   "metadata": {},
   "outputs": [],
   "source": [
    "# Create LSH index\n",
    "#100 bands\n",
    "lsh_256_n = MinHashLSH(threshold=0.2, num_perm=256)\n",
    "#先把 0-19999 當test\n",
    "for i in range(20000,100000):\n",
    "    lsh_256_n.insert(i, m_256_n[i])\n"
   ]
  },
  {
   "cell_type": "code",
   "execution_count": 60,
   "metadata": {},
   "outputs": [],
   "source": [
    "def get_prediction_256_n(k):\n",
    "    default_rate = 5.0\n",
    "    result = lsh_256_n.query(m_256_n[k])\n",
    "    jaccard_list = []\n",
    "    try:\n",
    "        for i in range(len(result)):\n",
    "            jaccard_list.append(m_256_n[k].jaccard(m_256_n[result[i]]))\n",
    "        max_m = jaccard_list.index(max(jaccard_list))\n",
    "        return data.iloc[max_m][\"rate\"]\n",
    "    except ValueError:\n",
    "        print(k, \"value_error\")\n",
    "        return default_rate\n",
    "    \n",
    "#     print(max_m)\n",
    "#     print(data.iloc[max_m][\"rate\"])"
   ]
  },
  {
   "cell_type": "code",
   "execution_count": 3,
   "metadata": {},
   "outputs": [],
   "source": [
    "%%time\n",
    "import time \n",
    "tStart = time.time() #計時開始\n",
    "y_pred_lsh_256_n = []\n",
    "LSH_time_256_n=[]\n",
    "for i in range(0,20000):\n",
    "    y_pred_lsh_256_n.append(get_prediction_256_n(i))\n",
    "    tEnd = time.time()\n",
    "    LSH_time_256_n.append(tEnd-tStart)"
   ]
  },
  {
   "cell_type": "code",
   "execution_count": 67,
   "metadata": {},
   "outputs": [
    {
     "data": {
      "text/plain": [
       "0.41515"
      ]
     },
     "execution_count": 67,
     "metadata": {},
     "output_type": "execute_result"
    }
   ],
   "source": [
    "y_pred_df_lsh_256_n = pd.DataFrame(y_pred_lsh_256_n, columns=[\"rate\"])\n",
    "y_true_lsh_256_n = data.iloc[0:20000][\"rate\"]\n",
    "from sklearn.metrics import accuracy_score\n",
    "score_lsh_256_n = accuracy_score(y_true_lsh_256_n, y_pred_df_lsh_256_n, normalize=True)\n",
    "score_lsh_256_n"
   ]
  },
  {
   "cell_type": "markdown",
   "metadata": {},
   "source": [
    "#### Performance Comparison in Effectiveness and Efficiency"
   ]
  },
  {
   "cell_type": "code",
   "execution_count": 132,
   "metadata": {},
   "outputs": [
    {
     "data": {
      "image/png": "[encoded data removed]",
      "text/plain": [
       "<Figure size 576x432 with 1 Axes>"
      ]
     },
     "metadata": {
      "needs_background": "light"
     },
     "output_type": "display_data"
    }
   ],
   "source": [
    "import matplotlib.pyplot as plt\n",
    "import numpy as np\n",
    "%matplotlib inline\n",
    "\n",
    "plt.figure(0,figsize=(8,6))\n",
    "\n",
    "x = [x/len(LSH_time)*100 for x in range(len(LSH_time))]\n",
    "\n",
    "# line_BFL, = plt.plot(x, BFL_time, label='BFL')\n",
    "line_LSH, = plt.plot(x, LSH_time, label='LSH num_perm=128')\n",
    "line_LSH_256_n, = plt.plot(x, LSH_time_256_n, label='LSH num_perm=256')\n",
    "\n",
    "plt.xlabel('% of test data')\n",
    "plt.ylabel('Accumulated Run Time')\n",
    "# plt.ylim([0,2])\n",
    "plt.legend(handles=[line_LSH,line_LSH_256_n], loc=0)\n",
    "\n",
    "plt.show()\n",
    "plt.close()"
   ]
  },
  {
   "cell_type": "code",
   "execution_count": 133,
   "metadata": {
    "scrolled": true
   },
   "outputs": [
    {
     "data": {
      "image/png": "[encoded data removed]",
      "text/plain": [
       "<Figure size 432x288 with 1 Axes>"
      ]
     },
     "metadata": {
      "needs_background": "light"
     },
     "output_type": "display_data"
    }
   ],
   "source": [
    "import matplotlib.pyplot as plt\n",
    "\n",
    "effectiveness = [score_lsh,score_lsh_256_n]\n",
    "\n",
    "plt.bar(range(2), effectiveness, 0.4,color='g', alpha = 0.8,align='center')\n",
    "\n",
    "plt.ylabel('Accuracy')\n",
    "plt.title('Effectiveness')\n",
    "\n",
    "plt.xticks(range(2),['LSH num_perm=128','LSH num_perm=256'])\n",
    "\n",
    "for x,y in enumerate(effectiveness):\n",
    "    plt.text(x,y,'%s' %y,ha='center')\n",
    "\n",
    "plt.show()"
   ]
  },
  {
   "cell_type": "markdown",
   "metadata": {},
   "source": [
    "根據結果顯示，num_perm=256 時的效能為 0.41515，稍微勝過 num_perm=128 的 0.4059。不過因為 num_perm=256 時需要做更多的運算，因此在效率的表現上，num_perm=128 的速度明顯比 num_perm=256 快上許多。"
   ]
  },
  {
   "cell_type": "markdown",
   "metadata": {},
   "source": [
    "### Change # of bands"
   ]
  },
  {
   "cell_type": "markdown",
   "metadata": {},
   "source": [
    "#### 16 bands"
   ]
  },
  {
   "cell_type": "code",
   "execution_count": 147,
   "metadata": {},
   "outputs": [],
   "source": [
    "# Create LSH index\n",
    "#16 bands\n",
    "lsh_16b = MinHashLSH(threshold=0.2, num_perm=128, params=(16,8))\n",
    "for i in range(20000,100000):\n",
    "    lsh_16b.insert(i, m[i])\n"
   ]
  },
  {
   "cell_type": "code",
   "execution_count": 148,
   "metadata": {},
   "outputs": [
    {
     "data": {
      "text/plain": [
       "16"
      ]
     },
     "execution_count": 148,
     "metadata": {},
     "output_type": "execute_result"
    }
   ],
   "source": [
    "# number of bands\n",
    "lsh_16b.b"
   ]
  },
  {
   "cell_type": "code",
   "execution_count": 149,
   "metadata": {},
   "outputs": [],
   "source": [
    "def get_prediction_16b(k):\n",
    "    default_rate = 5.0\n",
    "    result = lsh_16b.query(m[k])\n",
    "    jaccard_list = []\n",
    "    try:\n",
    "        for i in range(len(result)):\n",
    "            jaccard_list.append(m[k].jaccard(m[result[i]]))\n",
    "        max_m = jaccard_list.index(max(jaccard_list))\n",
    "        return data.iloc[max_m][\"rate\"]\n",
    "    except ValueError:\n",
    "#         print(k, \"value_error\")\n",
    "        return default_rate"
   ]
  },
  {
   "cell_type": "code",
   "execution_count": 150,
   "metadata": {},
   "outputs": [
    {
     "name": "stdout",
     "output_type": "stream",
     "text": [
      "CPU times: user 4.87 s, sys: 2.38 s, total: 7.26 s\n",
      "Wall time: 18.2 s\n"
     ]
    }
   ],
   "source": [
    "%%time\n",
    "import time \n",
    "tStart = time.time() #計時開始\n",
    "y_pred_lsh_16b = []\n",
    "LSH_time_16b = []\n",
    "for i in range(0,20000):\n",
    "    y_pred_lsh_16b.append(get_prediction_16b(i))\n",
    "    tEnd = time.time()\n",
    "    LSH_time_16b.append(tEnd-tStart)"
   ]
  },
  {
   "cell_type": "code",
   "execution_count": 151,
   "metadata": {},
   "outputs": [
    {
     "data": {
      "text/plain": [
       "0.58925"
      ]
     },
     "execution_count": 151,
     "metadata": {},
     "output_type": "execute_result"
    }
   ],
   "source": [
    "y_pred_df_lsh_16b = pd.DataFrame(y_pred_lsh_16b, columns=[\"rate\"])\n",
    "y_true_lsh_16b = data.iloc[0:20000][\"rate\"]\n",
    "from sklearn.metrics import accuracy_score\n",
    "score_lsh_16b = accuracy_score(y_true_lsh_16b, y_pred_df_lsh_16b, normalize=True)\n",
    "score_lsh_16b"
   ]
  },
  {
   "cell_type": "code",
   "execution_count": 152,
   "metadata": {},
   "outputs": [
    {
     "data": {
      "text/plain": [
       "5.0    18168\n",
       "4.0     1831\n",
       "3.0        1\n",
       "Name: rate, dtype: int64"
      ]
     },
     "execution_count": 152,
     "metadata": {},
     "output_type": "execute_result"
    }
   ],
   "source": [
    "y_pred_df_lsh_16b[\"rate\"].value_counts()"
   ]
  },
  {
   "cell_type": "markdown",
   "metadata": {},
   "source": [
    "#### 32 bands"
   ]
  },
  {
   "cell_type": "code",
   "execution_count": 87,
   "metadata": {},
   "outputs": [],
   "source": [
    "# Create LSH index\n",
    "#32 bands\n",
    "lsh_32b = MinHashLSH(threshold=0.2, num_perm=128, params=(32,4))\n",
    "#先把 0-19999 當test\n",
    "for i in range(20000,100000):\n",
    "    lsh_32b.insert(i, m[i])\n"
   ]
  },
  {
   "cell_type": "code",
   "execution_count": 114,
   "metadata": {},
   "outputs": [
    {
     "data": {
      "text/plain": [
       "32"
      ]
     },
     "execution_count": 114,
     "metadata": {},
     "output_type": "execute_result"
    }
   ],
   "source": [
    "# number of bands\n",
    "lsh_32b.b"
   ]
  },
  {
   "cell_type": "code",
   "execution_count": 88,
   "metadata": {},
   "outputs": [],
   "source": [
    "def get_prediction_32b(k):\n",
    "    default_rate = 5.0\n",
    "    result = lsh_32b.query(m[k])\n",
    "    jaccard_list = []\n",
    "    try:\n",
    "        for i in range(len(result)):\n",
    "            jaccard_list.append(m[k].jaccard(m[result[i]]))\n",
    "        max_m = jaccard_list.index(max(jaccard_list))\n",
    "        return data.iloc[max_m][\"rate\"]\n",
    "    except ValueError:\n",
    "#         print(k, \"value_error\")\n",
    "        return default_rate"
   ]
  },
  {
   "cell_type": "code",
   "execution_count": 89,
   "metadata": {},
   "outputs": [
    {
     "name": "stdout",
     "output_type": "stream",
     "text": [
      "CPU times: user 15.5 s, sys: 551 ms, total: 16.1 s\n",
      "Wall time: 18 s\n"
     ]
    }
   ],
   "source": [
    "%%time\n",
    "import time \n",
    "tStart = time.time() #計時開始\n",
    "y_pred_lsh_32b = []\n",
    "LSH_time_32b = []\n",
    "for i in range(0,20000):\n",
    "    y_pred_lsh_32b.append(get_prediction_32b(i))\n",
    "    tEnd = time.time()\n",
    "    LSH_time_32b.append(tEnd-tStart)"
   ]
  },
  {
   "cell_type": "code",
   "execution_count": 90,
   "metadata": {},
   "outputs": [
    {
     "data": {
      "text/plain": [
       "0.43115"
      ]
     },
     "execution_count": 90,
     "metadata": {},
     "output_type": "execute_result"
    }
   ],
   "source": [
    "y_pred_df_lsh_32b = pd.DataFrame(y_pred_lsh_32b, columns=[\"rate\"])\n",
    "y_true_lsh_32b = data.iloc[0:20000][\"rate\"]\n",
    "from sklearn.metrics import accuracy_score\n",
    "score_lsh_32b = accuracy_score(y_true_lsh_32b, y_pred_df_lsh_32b, normalize=True)\n",
    "score_lsh_32b"
   ]
  },
  {
   "cell_type": "code",
   "execution_count": 91,
   "metadata": {},
   "outputs": [
    {
     "data": {
      "text/plain": [
       "5.0    11495\n",
       "4.0     7833\n",
       "3.0      552\n",
       "2.0       78\n",
       "1.0       42\n",
       "Name: rate, dtype: int64"
      ]
     },
     "execution_count": 91,
     "metadata": {},
     "output_type": "execute_result"
    }
   ],
   "source": [
    "y_pred_df_lsh_32b[\"rate\"].value_counts()"
   ]
  },
  {
   "cell_type": "markdown",
   "metadata": {},
   "source": [
    "#### 64 bands"
   ]
  },
  {
   "cell_type": "code",
   "execution_count": 119,
   "metadata": {},
   "outputs": [],
   "source": [
    "# Create LSH index\n",
    "#64 bands\n",
    "lsh_64b = MinHashLSH(threshold=0.2, num_perm=128, params=(64,2))\n",
    "#先把 0-19999 當test\n",
    "for i in range(20000,100000):\n",
    "    lsh_64b.insert(i, m[i])\n"
   ]
  },
  {
   "cell_type": "code",
   "execution_count": 120,
   "metadata": {},
   "outputs": [
    {
     "data": {
      "text/plain": [
       "64"
      ]
     },
     "execution_count": 120,
     "metadata": {},
     "output_type": "execute_result"
    }
   ],
   "source": [
    "# number of bands\n",
    "lsh_64b.b"
   ]
  },
  {
   "cell_type": "code",
   "execution_count": 121,
   "metadata": {},
   "outputs": [],
   "source": [
    "def get_prediction_64b(k):\n",
    "    default_rate = 5.0\n",
    "    result = lsh_64b.query(m[k])\n",
    "    jaccard_list = []\n",
    "    try:\n",
    "        for i in range(len(result)):\n",
    "            jaccard_list.append(m[k].jaccard(m[result[i]]))\n",
    "        max_m = jaccard_list.index(max(jaccard_list))\n",
    "        return data.iloc[max_m][\"rate\"]\n",
    "    except ValueError:\n",
    "        print(k, \"value_error\")\n",
    "        return default_rate"
   ]
  },
  {
   "cell_type": "code",
   "execution_count": 4,
   "metadata": {
    "scrolled": true
   },
   "outputs": [],
   "source": [
    "%%time\n",
    "import time \n",
    "tStart = time.time() #計時開始\n",
    "y_pred_lsh_64b = []\n",
    "LSH_time_64b = []\n",
    "for i in range(0,20000):\n",
    "    y_pred_lsh_64b.append(get_prediction_64b(i))\n",
    "    tEnd = time.time()\n",
    "    LSH_time_64b.append(tEnd-tStart)"
   ]
  },
  {
   "cell_type": "code",
   "execution_count": 123,
   "metadata": {},
   "outputs": [
    {
     "data": {
      "text/plain": [
       "0.4233"
      ]
     },
     "execution_count": 123,
     "metadata": {},
     "output_type": "execute_result"
    }
   ],
   "source": [
    "y_pred_df_lsh_64b = pd.DataFrame(y_pred_lsh_64b, columns=[\"rate\"])\n",
    "y_true_lsh_64b = data.iloc[0:20000][\"rate\"]\n",
    "from sklearn.metrics import accuracy_score\n",
    "score_lsh_64b = accuracy_score(y_true_lsh_64b, y_pred_df_lsh_64b, normalize=True)\n",
    "score_lsh_64b"
   ]
  },
  {
   "cell_type": "code",
   "execution_count": 124,
   "metadata": {},
   "outputs": [
    {
     "data": {
      "text/plain": [
       "5.0    11832\n",
       "4.0     3741\n",
       "1.0     1954\n",
       "3.0     1536\n",
       "2.0      937\n",
       "Name: rate, dtype: int64"
      ]
     },
     "execution_count": 124,
     "metadata": {},
     "output_type": "execute_result"
    }
   ],
   "source": [
    "y_pred_df_lsh_64b[\"rate\"].value_counts()"
   ]
  },
  {
   "cell_type": "markdown",
   "metadata": {},
   "source": [
    "#### Performance Comparison in Effectiveness and Efficiency"
   ]
  },
  {
   "cell_type": "code",
   "execution_count": 153,
   "metadata": {},
   "outputs": [
    {
     "data": {
      "image/png": "[encoded data removed]",
      "text/plain": [
       "<Figure size 576x432 with 1 Axes>"
      ]
     },
     "metadata": {
      "needs_background": "light"
     },
     "output_type": "display_data"
    }
   ],
   "source": [
    "import matplotlib.pyplot as plt\n",
    "import numpy as np\n",
    "%matplotlib inline\n",
    "\n",
    "plt.figure(0,figsize=(8,6))\n",
    "\n",
    "x = [x/len(LSH_time)*100 for x in range(len(LSH_time))]\n",
    "\n",
    "# line_BFL, = plt.plot(x, BFL_time, label='BFL')\n",
    "line_LSH, = plt.plot(x, LSH_time, label='LSH 128 bands')\n",
    "line_LSH_16b, = plt.plot(x, LSH_time_16b, label='LSH 16 bands')\n",
    "line_LSH_32b, = plt.plot(x, LSH_time_32b, label='LSH 32 bands')\n",
    "line_LSH_64b, = plt.plot(x, LSH_time_64b, label='LSH 64 bands')\n",
    "\n",
    "plt.title('Efficiency')\n",
    "plt.xlabel('% of test data')\n",
    "plt.ylabel('Accumulated Run Time')\n",
    "# plt.ylim([0,2])\n",
    "plt.legend(handles=[line_LSH,line_LSH_16b,line_LSH_32b,line_LSH_64b], loc=0)\n",
    "\n",
    "plt.show()\n",
    "plt.close()"
   ]
  },
  {
   "cell_type": "code",
   "execution_count": 154,
   "metadata": {},
   "outputs": [
    {
     "data": {
      "image/png": "[encoded data removed]",
      "text/plain": [
       "<Figure size 432x288 with 1 Axes>"
      ]
     },
     "metadata": {
      "needs_background": "light"
     },
     "output_type": "display_data"
    }
   ],
   "source": [
    "import matplotlib.pyplot as plt\n",
    "\n",
    "effectiveness = [score_lsh,score_lsh_16b,score_lsh_32b,score_lsh_64b]\n",
    "\n",
    "plt.bar(range(4), effectiveness, 0.4,color='g', alpha = 0.8,align='center')\n",
    "\n",
    "plt.ylabel('Accuracy')\n",
    "plt.title('Effectiveness')\n",
    "\n",
    "plt.xticks(range(4),['LSH 128 bands','LSH 16 bands','LSH 32 bands','LSH 64 bands'])\n",
    "\n",
    "for x,y in enumerate(effectiveness):\n",
    "    plt.text(x,y,'%s' %y,ha='center')\n",
    "\n",
    "plt.show()"
   ]
  }
 ],
 "metadata": {
  "kernelspec": {
   "display_name": "Python 3",
   "language": "python",
   "name": "python3"
  },
  "language_info": {
   "codemirror_mode": {
    "name": "ipython",
    "version": 3
   },
   "file_extension": ".py",
   "mimetype": "text/x-python",
   "name": "python",
   "nbconvert_exporter": "python",
   "pygments_lexer": "ipython3",
   "version": "3.7.4"
  },
  "toc": {
   "base_numbering": 1,
   "nav_menu": {},
   "number_sections": true,
   "sideBar": true,
   "skip_h1_title": false,
   "title_cell": "Table of Contents",
   "title_sidebar": "Contents",
   "toc_cell": false,
   "toc_position": {
    "height": "calc(100% - 180px)",
    "left": "10px",
    "top": "150px",
    "width": "307.2px"
   },
   "toc_section_display": true,
   "toc_window_display": false
  }
 },
 "nbformat": 4,
 "nbformat_minor": 2
}
